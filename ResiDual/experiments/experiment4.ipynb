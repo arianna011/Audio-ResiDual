{
 "cells": [
  {
   "cell_type": "code",
   "execution_count": null,
   "metadata": {},
   "outputs": [],
   "source": [
    "from latentis import PROJECT_ROOT"
   ]
  },
  {
   "cell_type": "code",
   "execution_count": null,
   "metadata": {},
   "outputs": [],
   "source": [
    "import pandas as pd\n",
    "import wandb"
   ]
  },
  {
   "cell_type": "code",
   "execution_count": null,
   "metadata": {},
   "outputs": [],
   "source": [
    "api = wandb.Api()\n",
    "runs = api.runs(\"resi_dual/residual\", filters={\"tags\": \"cr\"})"
   ]
  },
  {
   "cell_type": "code",
   "execution_count": null,
   "metadata": {},
   "outputs": [],
   "source": [
    "from wandb.apis.public.runs import Run\n",
    "\n",
    "data = []\n",
    "for run in runs:\n",
    "    run: Run\n",
    "\n",
    "    data.append(\n",
    "        {\n",
    "            **run.config,\n",
    "            \"id\": run.id,\n",
    "            \"name\": run.name,\n",
    "            \"accuracy\": run.summary.get(\"test/accuracy\", None),\n",
    "            \"logits_loss\": run.summary.get(\"test/logits_loss\", None),\n",
    "        }\n",
    "    )\n",
    "data = pd.DataFrame(data)\n",
    "data.rename(\n",
    "    columns={\n",
    "        \"encoder_name\": \"encoder\",\n",
    "        \"dataset_name\": \"dataset\",\n",
    "    },\n",
    "    inplace=True,\n",
    ")\n",
    "data"
   ]
  },
  {
   "cell_type": "code",
   "execution_count": null,
   "metadata": {},
   "outputs": [],
   "source": [
    "data.encoder.unique()"
   ]
  },
  {
   "cell_type": "code",
   "execution_count": null,
   "metadata": {},
   "outputs": [],
   "source": [
    "score_data = (\n",
    "    data[\n",
    "        [\n",
    "            \"dataset\",\n",
    "            \"exp_type\",\n",
    "            \"encoder\",\n",
    "            \"accuracy\",\n",
    "            \"logits_loss\",\n",
    "        ]\n",
    "    ]\n",
    "    .pivot(\n",
    "        index=[\"dataset\", \"encoder\"],\n",
    "        columns=\"exp_type\",\n",
    "        values=[\"accuracy\"],  # , \"test/logits_loss\"],\n",
    "    )\n",
    "    .droplevel(0, axis=1)\n",
    ")\n",
    "score_data.columns.name = None\n",
    "score_data = score_data.reset_index()\n",
    "score_data"
   ]
  },
  {
   "cell_type": "code",
   "execution_count": null,
   "metadata": {},
   "outputs": [],
   "source": [
    "score_data.to_csv(PROJECT_ROOT / \"results\" / \"exp4.tsv\", index=False, sep=\"\\t\")"
   ]
  },
  {
   "cell_type": "code",
   "execution_count": null,
   "metadata": {},
   "outputs": [],
   "source": [
    "import matplotlib.pyplot as plt\n",
    "import numpy as np\n",
    "import pandas as pd"
   ]
  },
  {
   "cell_type": "code",
   "execution_count": null,
   "metadata": {},
   "outputs": [],
   "source": [
    "from typing import Sequence\n",
    "\n",
    "from residual.data import data_registry\n",
    "from residual.nn.model_registry import model_names\n",
    "\n",
    "exp_type2label = {\n",
    "    \"residual_fine\": \"ResiDual*\",\n",
    "    \"residual_coarse\": \"Optimized\",\n",
    "    \"residual_full\": \"ResiDual\",\n",
    "}\n",
    "\n",
    "\n",
    "def create_model_diamond_plot(df, encoder: str, exp_types: Sequence[str]):\n",
    "    encoder_data = df.copy()\n",
    "    encoder_data = encoder_data[encoder_data[\"encoder\"] == encoder]\n",
    "    datasets = encoder_data[\"dataset\"].values\n",
    "    datasets = [data_registry.dataset_names[dataset] for dataset in datasets]\n",
    "\n",
    "    angles = np.linspace(0, 2 * np.pi, len(datasets), endpoint=False).tolist()\n",
    "    angles += angles[:1]  # Close the loop\n",
    "\n",
    "    fig, ax = plt.subplots(figsize=(8, 8), subplot_kw=dict(polar=True))\n",
    "\n",
    "    for exp_type in exp_types:\n",
    "        if exp_type not in encoder_data.columns:\n",
    "            continue\n",
    "        values = encoder_data[exp_type].values\n",
    "        values = np.concatenate((values, [values[0]]))  # Close the loop\n",
    "        ax.plot(angles, values, linewidth=2, label=exp_type2label[exp_type])\n",
    "        ax.fill(angles, values, alpha=0.1)\n",
    "\n",
    "    ax.set_xticks(angles[:-1])\n",
    "    ax.set_xticklabels(datasets)\n",
    "\n",
    "    encoder_label = model_names[encoder]\n",
    "    ax.set_yticklabels([])\n",
    "    plt.title(f\"{encoder_label}\", size=15, color=\"b\", y=1.1)\n",
    "    plt.legend(loc=\"upper right\", bbox_to_anchor=(0.1, 0.1))\n",
    "    plt.savefig(PROJECT_ROOT / \"results\" / f\"{encoder}_exp4.pdf\")\n",
    "\n",
    "    return fig, ax\n",
    "\n",
    "\n",
    "encoders = score_data[\"encoder\"].unique()\n",
    "# encoders = [\"openclip_l\"]\n",
    "for encoder in encoders:\n",
    "    fig, ax = create_model_diamond_plot(\n",
    "        score_data, encoder=encoder, exp_types=exp_type2label.keys()\n",
    "    )"
   ]
  },
  {
   "cell_type": "code",
   "execution_count": null,
   "metadata": {},
   "outputs": [],
   "source": [
    "score_data"
   ]
  },
  {
   "cell_type": "code",
   "execution_count": null,
   "metadata": {},
   "outputs": [],
   "source": [
    "tab_encoders = {\n",
    "    # \"clip_b\",\n",
    "    # \"clip_l\",\n",
    "    \"openclip_b\",\n",
    "    \"openclip_l\",\n",
    "    # \"openai_l\",\n",
    "    # \"blip_l_flickr\",\n",
    "}\n",
    "# for encoder in tab_encoders:\n",
    "encoder_data = (\n",
    "    score_data[score_data.encoder.isin(tab_encoders)]\n",
    "    .pivot(\n",
    "        index=\"dataset\",\n",
    "        columns=(\"encoder\"),\n",
    "        values=[\n",
    "            # \"residual_coarse\",\n",
    "            \"residual_fine\",\n",
    "            \"residual_full\",\n",
    "        ],\n",
    "    )\n",
    "    .sort_index(axis=1, level=1)\n",
    ").reset_index()\n",
    "# encoder_data.columns = encoder_data.columns.droplevel(1)\n",
    "encoder_data[\"dataset\"] = encoder_data[\"dataset\"].replace(data_registry.dataset_names)\n",
    "\n",
    "encoder_data = encoder_data.rename(\n",
    "    columns={\n",
    "        \"dataset\": \"Dataset\",\n",
    "        \"openclip_l\": \"OpenCLIP-l\",\n",
    "        \"clip_l\": \"CLIP-l\",\n",
    "        \"blip_l_flickr\": \"BLIP-l\",\n",
    "        \"linear_adapter\": \"Linear\",\n",
    "        \"residual_full\": \"ResiDual\",\n",
    "        \"residual_fine\": \"ResiDual*\",\n",
    "    },\n",
    ")\n",
    "numeric_means = encoder_data.select_dtypes(include=\"number\").mean()\n",
    "average_row = {\n",
    "    col: numeric_means[col] if col in numeric_means.index else None\n",
    "    for col in encoder_data.columns\n",
    "}\n",
    "encoder_data.loc[\"Average\"] = average_row\n",
    "\n",
    "# encoder_data\n",
    "print(\n",
    "    encoder_data.to_latex(\n",
    "        float_format=\"{:0.2f}\".format,\n",
    "        index=False,\n",
    "        column_format=\"l\" + \"c\" * 9,\n",
    "        multicolumn_format=\"c\",\n",
    "        multicolumn=True,\n",
    "    )\n",
    ")"
   ]
  },
  {
   "cell_type": "code",
   "execution_count": null,
   "metadata": {},
   "outputs": [],
   "source": []
  }
 ],
 "metadata": {
  "kernelspec": {
   "display_name": ".venv",
   "language": "python",
   "name": "python3"
  },
  "language_info": {
   "codemirror_mode": {
    "name": "ipython",
    "version": 3
   },
   "file_extension": ".py",
   "mimetype": "text/x-python",
   "name": "python",
   "nbconvert_exporter": "python",
   "pygments_lexer": "ipython3",
   "version": "3.11.2"
  }
 },
 "nbformat": 4,
 "nbformat_minor": 2
}
